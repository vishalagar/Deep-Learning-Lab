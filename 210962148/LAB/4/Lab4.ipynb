{
 "cells": [
  {
   "cell_type": "code",
   "execution_count": 1,
   "id": "7e8af7be-a9ce-4040-a2eb-cf1107ffc9e7",
   "metadata": {},
   "outputs": [
    {
     "data": {
      "text/plain": [
       "<torch._C.Generator at 0x7f27dc5aa0f0>"
      ]
     },
     "execution_count": 1,
     "metadata": {},
     "output_type": "execute_result"
    }
   ],
   "source": [
    "# Import necessary Libraries\n",
    "import torch\n",
    "from matplotlib import pyplot as plt\n",
    "from torch.utils.data import Dataset, DataLoader\n",
    "import torch.nn as nn\n",
    "import numpy as np\n",
    "loss_list = []\n",
    "torch.manual_seed(42)"
   ]
  },
  {
   "cell_type": "code",
   "execution_count": 2,
   "id": "60da5ea9-22fa-4324-a7f3-b0c58c021885",
   "metadata": {},
   "outputs": [],
   "source": [
    "X = torch.tensor([[0,0],[0,1],[1,0],[1,1]], dtype = torch.float32)\n",
    "Y = torch.tensor([0, 1, 1, 0], dtype = torch.float32)"
   ]
  },
  {
   "cell_type": "code",
   "execution_count": 3,
   "id": "90d4874b-08c5-48b5-8e2d-fa39b9550a6f",
   "metadata": {},
   "outputs": [],
   "source": [
    "class XORModel(nn.Module):\n",
    "    def __init__(self):\n",
    "        super(XORModel, self).__init__()\n",
    "        # self.w = torch.nn.Parameter(torch.rand([1]))\n",
    "        # self.b = torch.nn.Parameter(torch.rand([1]))\n",
    "\n",
    "        self.linear1 = nn.Linear(2, 2, bias = True)\n",
    "        self.activation1 = nn.ReLU()\n",
    "        self.linear2 = nn.Linear(2, 1, bias = True)\n",
    "        # self.activation2 = nn.ReLU()\n",
    "\n",
    "    def forward(self, x):\n",
    "        x = self.linear1(x)\n",
    "        x = self.activation1(x)\n",
    "        x = self.linear2(x)\n",
    "        # x = self.activation2(x)\n",
    "        return x"
   ]
  },
  {
   "cell_type": "code",
   "execution_count": 4,
   "id": "f1a481ec-adca-4159-a07a-68edff786a70",
   "metadata": {},
   "outputs": [],
   "source": [
    "class MyDataset(Dataset):\n",
    "    def __init__(self, X , Y):\n",
    "        self.X = X\n",
    "        self.Y = Y\n",
    "\n",
    "    def __len__(self):\n",
    "        return len(self.X)\n",
    "\n",
    "    def __getitem__(self, idx):\n",
    "        return self.X[idx].to(device), self.Y[idx].to(device)"
   ]
  },
  {
   "cell_type": "code",
   "execution_count": 5,
   "id": "9bbc148e-f998-40a3-8854-f93fd6b3bfc1",
   "metadata": {},
   "outputs": [
    {
     "name": "stdout",
     "output_type": "stream",
     "text": [
      "XORModel(\n",
      "  (linear1): Linear(in_features=2, out_features=2, bias=True)\n",
      "  (activation1): ReLU()\n",
      "  (linear2): Linear(in_features=2, out_features=1, bias=True)\n",
      ")\n"
     ]
    }
   ],
   "source": [
    "full_dataset = MyDataset(X, Y)\n",
    "batch_size = 1\n",
    "#Create the dataloaders for reading data - # This provides a way to read the dataset in batches, also\n",
    "# shuffle the data\n",
    "train_data_loader = DataLoader(full_dataset, batch_size=batch_size, shuffle=True)\n",
    "#Find if CUDA is available to load the model and device on to the available device CPU/GPU\n",
    "device = torch.device(\"cuda\" if torch.cuda.is_available() else \"cpu\")\n",
    "#Load the model to GPU\n",
    "model = XORModel().to(device)\n",
    "print(model)\n",
    "#Add the criterion which is the MSELoss\n",
    "loss_fn = torch.nn.MSELoss()\n",
    "#Optimizers specified in the torch.optim package\n",
    "optimizer = torch.optim.SGD(model.parameters(), lr=0.03)"
   ]
  },
  {
   "cell_type": "code",
   "execution_count": 6,
   "id": "ac904aa3-7f5a-45a1-8383-b50b9bdb1bad",
   "metadata": {},
   "outputs": [],
   "source": [
    "def train_one_epoch(epoch_index):\n",
    "    totalloss = 0.0\n",
    "\n",
    "    for i, data in enumerate(train_data_loader):\n",
    "\n",
    "        inputs, labels = data\n",
    "\n",
    "        optimizer.zero_grad()\n",
    "    \n",
    "        outputs = model(inputs)\n",
    "    \n",
    "        loss = loss_fn(outputs.flatten(), labels)\n",
    "        loss.backward()\n",
    "        optimizer.step()\n",
    "        totalloss += loss.item()\n",
    "    \n",
    "    return totalloss/(len(train_data_loader) * batch_size)"
   ]
  },
  {
   "cell_type": "code",
   "execution_count": 7,
   "id": "3955ce03-d76f-4efb-ab62-b2100d11cba5",
   "metadata": {},
   "outputs": [
    {
     "name": "stdout",
     "output_type": "stream",
     "text": [
      "0 / 10000, loss: 0.28828215412795544\n",
      "1000 / 10000, loss: 0.13222978546400554\n",
      "2000 / 10000, loss: 0.13277034627981266\n",
      "3000 / 10000, loss: 0.13273568680347125\n",
      "4000 / 10000, loss: 0.13273096554848962\n",
      "5000 / 10000, loss: 0.1327835510719524\n",
      "6000 / 10000, loss: 0.1328371121908276\n",
      "7000 / 10000, loss: 0.13272638581878482\n",
      "8000 / 10000, loss: 0.13273535281267357\n",
      "9000 / 10000, loss: 0.1324844262948659\n"
     ]
    }
   ],
   "source": [
    "epochs = 10000\n",
    "\n",
    "for i in range(epochs):\n",
    "\n",
    "    model.train(True)\n",
    "    avg_loss = train_one_epoch(i)\n",
    "    loss_list.append(avg_loss)\n",
    "\n",
    "    if i % 1000 ==0:\n",
    "        print(f\"{i} / {epochs}, loss: {avg_loss}\")"
   ]
  },
  {
   "cell_type": "code",
   "execution_count": 8,
   "id": "35833145-af5d-475e-ba33-335141be8594",
   "metadata": {},
   "outputs": [
    {
     "name": "stdout",
     "output_type": "stream",
     "text": [
      "('linear1.weight', Parameter containing:\n",
      "tensor([[ 0.6139,  0.6554],\n",
      "        [-0.6774,  0.6844]], device='cuda:0', requires_grad=True))\n",
      "('linear1.bias', Parameter containing:\n",
      "tensor([-0.6271, -0.0178], device='cuda:0', requires_grad=True))\n",
      "('linear2.weight', Parameter containing:\n",
      "tensor([[-0.7764,  0.7782]], device='cuda:0', requires_grad=True))\n",
      "('linear2.bias', Parameter containing:\n",
      "tensor([0.4958], device='cuda:0', requires_grad=True))\n",
      "\n",
      "\n",
      "Input is : tensor([0., 1.], device='cuda:0') \n",
      "Output is : tensor([0.9926], device='cuda:0', grad_fn=<ViewBackward0>)\n"
     ]
    },
    {
     "data": {
      "image/png": "[encoded data removed]",
      "text/plain": [
       "<Figure size 640x480 with 1 Axes>"
      ]
     },
     "metadata": {},
     "output_type": "display_data"
    }
   ],
   "source": [
    "for param in model.named_parameters():\n",
    "    print(param)\n",
    "    \n",
    "input = torch.tensor([0, 1], dtype = torch.float32).to(device)\n",
    "model.eval()\n",
    "\n",
    "print(f\"\\n\\nInput is : {input} \")\n",
    "print(f\"Output is : {model(input)}\")\n",
    "\n",
    "plt.plot(loss_list)\n",
    "plt.show()\n",
    "# loss_list"
   ]
  },
  {
   "cell_type": "code",
   "execution_count": null,
   "id": "629a5e25-015b-483e-b85b-8a93eb9b1e46",
   "metadata": {},
   "outputs": [],
   "source": []
  }
 ],
 "metadata": {
  "kernelspec": {
   "display_name": "Python 3 (ipykernel)",
   "language": "python",
   "name": "python3"
  },
  "language_info": {
   "codemirror_mode": {
    "name": "ipython",
    "version": 3
   },
   "file_extension": ".py",
   "mimetype": "text/x-python",
   "name": "python",
   "nbconvert_exporter": "python",
   "pygments_lexer": "ipython3",
   "version": "3.11.7"
  }
 },
 "nbformat": 4,
 "nbformat_minor": 5
}
