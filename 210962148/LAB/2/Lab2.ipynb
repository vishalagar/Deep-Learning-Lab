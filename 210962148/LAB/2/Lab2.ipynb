{
 "cells": [
  {
   "cell_type": "code",
   "execution_count": 1,
   "id": "3ee1fee1-63fa-45c9-9d91-91fdc8745059",
   "metadata": {},
   "outputs": [],
   "source": [
    "import torch"
   ]
  },
  {
   "cell_type": "markdown",
   "id": "46f3b946-d8ed-408b-9d0d-eab9d63788e1",
   "metadata": {},
   "source": [
    "# Example Q1"
   ]
  },
  {
   "cell_type": "code",
   "execution_count": 2,
   "id": "e3a8802f-21e4-442b-9c0c-d4ad17ca9ab5",
   "metadata": {},
   "outputs": [],
   "source": [
    "x = torch.tensor(3.5, requires_grad = True)\n",
    "y = x*x\n",
    "z = 2*y + 3"
   ]
  },
  {
   "cell_type": "code",
   "execution_count": 3,
   "id": "ab400477-cc69-49b8-bfc1-f2faddfbb99d",
   "metadata": {},
   "outputs": [
    {
     "name": "stdout",
     "output_type": "stream",
     "text": [
      "x:  tensor(3.5000, requires_grad=True)\n",
      "y = x * x:  tensor(12.2500, grad_fn=<MulBackward0>)\n",
      "z = 2 * y + 3:  tensor(27.5000, grad_fn=<AddBackward0>)\n"
     ]
    }
   ],
   "source": [
    "print(\"x: \", x)\n",
    "print(\"y = x * x: \", y)\n",
    "print(\"z = 2 * y + 3: \", z)"
   ]
  },
  {
   "cell_type": "code",
   "execution_count": 4,
   "id": "16953e32-d29a-404c-82c5-eb483c5232ae",
   "metadata": {},
   "outputs": [
    {
     "name": "stdout",
     "output_type": "stream",
     "text": [
      "Gradient at x = 3.5:  tensor(14.)\n"
     ]
    }
   ],
   "source": [
    "z.backward()\n",
    "print(\"Gradient at x = 3.5: \", x.grad)"
   ]
  },
  {
   "cell_type": "markdown",
   "id": "bf98d87a-7e1b-4c67-9238-b0382b0d9815",
   "metadata": {},
   "source": [
    "# Example Q2"
   ]
  },
  {
   "cell_type": "code",
   "execution_count": 5,
   "id": "b3d48597-7828-4053-ac0b-e05afccc44f6",
   "metadata": {},
   "outputs": [],
   "source": [
    "def f(x):\n",
    "    return (x - 2)**2\n",
    "def gd(x):\n",
    "    return 2 * (x-2)"
   ]
  },
  {
   "cell_type": "code",
   "execution_count": null,
   "id": "c12d341f-61b8-498f-b1dc-145d2e787fc3",
   "metadata": {},
   "outputs": [],
   "source": []
  },
  {
   "cell_type": "markdown",
   "id": "0c0439e4-cb06-4c42-9cd9-d8917f93169b",
   "metadata": {},
   "source": [
    "# Q1"
   ]
  },
  {
   "cell_type": "code",
   "execution_count": 6,
   "id": "1cf35086-f577-4d2a-8e4e-c69166fd2370",
   "metadata": {},
   "outputs": [],
   "source": [
    "a = torch.tensor(2.0, requires_grad = True)\n",
    "b = torch.tensor(3.0, requires_grad = True)"
   ]
  },
  {
   "cell_type": "code",
   "execution_count": 7,
   "id": "8a7b8bb8-342f-42d4-8adf-a2ce146fecd4",
   "metadata": {},
   "outputs": [],
   "source": [
    "x = 2 * a + 3 * b\n",
    "y = 5 * a * a + 3 * b * b * b\n",
    "z = 2*x + 3*y\n",
    "    \n",
    "dzdx = 2\n",
    "dzdy = 3\n",
    "dzda = dzdx * 2 + dzdy * 10 * a\n",
    "    "
   ]
  },
  {
   "cell_type": "code",
   "execution_count": 8,
   "id": "e305ef23-010d-4623-8a67-e2ed4b3bc448",
   "metadata": {},
   "outputs": [
    {
     "name": "stdout",
     "output_type": "stream",
     "text": [
      "tensor(64.)\n",
      "tensor(64., grad_fn=<AddBackward0>)\n"
     ]
    }
   ],
   "source": [
    "z.backward()\n",
    "print(a.grad)\n",
    "print(dzda)"
   ]
  },
  {
   "cell_type": "markdown",
   "id": "b08c3498-37c0-48a0-9161-91886d8d2b32",
   "metadata": {},
   "source": [
    "# Q2"
   ]
  },
  {
   "cell_type": "code",
   "execution_count": 9,
   "id": "0e10811a-d303-44e2-8921-14783de61511",
   "metadata": {},
   "outputs": [],
   "source": [
    "b = torch.tensor(2.0, requires_grad = True)\n",
    "x = torch.tensor(3.0, requires_grad = True)\n",
    "w = torch.tensor(4.0, requires_grad = True)"
   ]
  },
  {
   "cell_type": "code",
   "execution_count": 10,
   "id": "0152a9cd-03e5-4bff-bfab-b3ceaf04fec6",
   "metadata": {},
   "outputs": [],
   "source": [
    "def grad(b,x,w):\n",
    "    u = w * x\n",
    "    v = u + b\n",
    "    a = torch.relu(v)\n",
    "\n",
    "    dadv = 1 if v > 0 else 0\n",
    "    dadu = dadv * 1\n",
    "    dadw = dadu * x\n",
    "\n",
    "    return a, dadw\n",
    "    "
   ]
  },
  {
   "cell_type": "code",
   "execution_count": 11,
   "id": "82c0b81c-9b24-4a0e-a2a0-ba252b2a604b",
   "metadata": {},
   "outputs": [
    {
     "name": "stdout",
     "output_type": "stream",
     "text": [
      "AutoGrad:  tensor(3.)\n",
      "Manual:  tensor(3., grad_fn=<MulBackward0>)\n"
     ]
    }
   ],
   "source": [
    "a, dadw = grad(b,x,w)\n",
    "a.backward()\n",
    "print(\"AutoGrad: \",w.grad)\n",
    "print(\"Manual: \", dadw)"
   ]
  },
  {
   "cell_type": "markdown",
   "id": "0da37b48-ace4-4d51-bdaf-e4565c7d71c0",
   "metadata": {},
   "source": [
    "# Q3"
   ]
  },
  {
   "cell_type": "code",
   "execution_count": 12,
   "id": "45bf01a7-3d2f-4aba-801b-6ac3da3fc840",
   "metadata": {},
   "outputs": [],
   "source": [
    "b = torch.tensor(1.0, requires_grad = True)\n",
    "x = torch.tensor(2.0, requires_grad = True)\n",
    "w = torch.tensor(3.0, requires_grad = True)"
   ]
  },
  {
   "cell_type": "code",
   "execution_count": 13,
   "id": "59c5a09b-cd1a-4d76-b71b-bf48e04e8400",
   "metadata": {},
   "outputs": [],
   "source": [
    "def sig(x):\n",
    "    return torch.sigmoid(x)\n",
    "\n",
    "def grad(b,x,w):\n",
    "    u = w * x\n",
    "    v = u + b\n",
    "    a = sig(v)\n",
    "\n",
    "    dadv = sig(v) * (1 - sig(v))\n",
    "    dadu = dadv * 1\n",
    "    dadw = dadu * x\n",
    "\n",
    "    return a, dadw"
   ]
  },
  {
   "cell_type": "code",
   "execution_count": 14,
   "id": "da5f1f5b-55b2-458f-b132-2813d038c962",
   "metadata": {},
   "outputs": [
    {
     "name": "stdout",
     "output_type": "stream",
     "text": [
      "AutoGrad:  tensor(0.0018)\n",
      "Manual:  tensor(0.0018, grad_fn=<MulBackward0>)\n"
     ]
    }
   ],
   "source": [
    "a, dadw = grad(b,x,w)\n",
    "a.backward()\n",
    "print(\"AutoGrad: \",w.grad)\n",
    "print(\"Manual: \", dadw)"
   ]
  },
  {
   "cell_type": "markdown",
   "id": "fda1cc54-ab32-4403-af00-0a6d5c974fe1",
   "metadata": {},
   "source": [
    "# Q4"
   ]
  },
  {
   "cell_type": "code",
   "execution_count": 15,
   "id": "0b3ef969-0619-40f0-842a-c8ad87c93c70",
   "metadata": {},
   "outputs": [],
   "source": [
    "x = torch.tensor(0.2, requires_grad = True)"
   ]
  },
  {
   "cell_type": "code",
   "execution_count": 16,
   "id": "48b5c27c-a64f-4f5d-868c-3a427c494226",
   "metadata": {},
   "outputs": [],
   "source": [
    "def grad(x):\n",
    "    a = x*x\n",
    "    b = 2*x\n",
    "    c = torch.sin(x)\n",
    "    d = -(a + b + c)\n",
    "    f = torch.exp(d)\n",
    "\n",
    "    dfdd = torch.exp(d)\n",
    "    dfdb = dfdd * -1.0\n",
    "    dfda = dfdd * -1.0\n",
    "    dfdc = dfdd * -1.0\n",
    "    \n",
    "    dfdx = dfdb * 2.0 + dfda * 2 *x + dfdc * torch.cos(x)\n",
    "    \n",
    "    return dfdx, f"
   ]
  },
  {
   "cell_type": "code",
   "execution_count": 17,
   "id": "a9990be6-813e-4350-a24a-f570351590cc",
   "metadata": {},
   "outputs": [
    {
     "name": "stdout",
     "output_type": "stream",
     "text": [
      "AutoGrad:  tensor(-1.7847)\n",
      "Manual:  tensor(-1.7847, grad_fn=<AddBackward0>)\n"
     ]
    }
   ],
   "source": [
    "dfdx, f =grad(x)\n",
    "f.backward()\n",
    "print(\"AutoGrad: \", x.grad)\n",
    "print(\"Manual: \", dfdx)"
   ]
  },
  {
   "cell_type": "markdown",
   "id": "6836ec0d-4988-46e0-ba6a-e4d2011fdeb7",
   "metadata": {},
   "source": [
    "# Q5"
   ]
  },
  {
   "cell_type": "code",
   "execution_count": 18,
   "id": "793c2245-2e85-4a42-a196-59203d85441e",
   "metadata": {},
   "outputs": [],
   "source": [
    "x = torch.tensor(2.0, requires_grad = True)"
   ]
  },
  {
   "cell_type": "code",
   "execution_count": 19,
   "id": "8ed92a63-419c-4bd5-8e28-3f80aa59fd39",
   "metadata": {},
   "outputs": [],
   "source": [
    "def grad(x):\n",
    "    a = 6 * x\n",
    "    b = 7 *x ** 2\n",
    "    c = 3 * x**3\n",
    "    d = 8 * x ** 4 \n",
    "    f = a+ b+c+d+3\n",
    "\n",
    "    dfda = 1\n",
    "    dfdb =1\n",
    "    dfdc = 1\n",
    "    dfdd = 1\n",
    "\n",
    "    dfdx = dfda * 6 + dfdb * 14 * x + dfdc * 9 *x**2 + dfdd * 32 * x ** 3\n",
    "\n",
    "    return f, dfdx"
   ]
  },
  {
   "cell_type": "code",
   "execution_count": 20,
   "id": "0643850e-c2c1-4661-80e9-2d211d3c45e6",
   "metadata": {},
   "outputs": [
    {
     "name": "stdout",
     "output_type": "stream",
     "text": [
      "AutoGrad:  tensor(326.)\n",
      "Manual:  tensor(326., grad_fn=<AddBackward0>)\n"
     ]
    }
   ],
   "source": [
    "f, dfdx = grad(x)\n",
    "f.backward()\n",
    "print(\"AutoGrad: \", x.grad)\n",
    "print(\"Manual: \", dfdx)"
   ]
  },
  {
   "cell_type": "markdown",
   "id": "f6e47e5d-1e14-41f9-920a-0a2bc0fd5840",
   "metadata": {},
   "source": [
    "# Q6"
   ]
  },
  {
   "cell_type": "code",
   "execution_count": 21,
   "id": "45f890a3-baec-402b-b56e-8a834c1517fc",
   "metadata": {},
   "outputs": [],
   "source": [
    "x = torch.tensor(1.0, requires_grad = True)\n",
    "y = torch.tensor(2.0, requires_grad = True)\n",
    "z = torch.tensor(1.0, requires_grad = True)"
   ]
  },
  {
   "cell_type": "code",
   "execution_count": 22,
   "id": "f1d769d7-e0bc-439e-b55b-33aca5c0efb8",
   "metadata": {},
   "outputs": [],
   "source": [
    "def grad(x, y, z):\n",
    "    a =x * 2\n",
    "    b = torch.sin(y)\n",
    "    c = a/b\n",
    "    d = c * z\n",
    "    e = torch.log(d + 1)\n",
    "    f = torch.tanh(e)\n",
    "\n",
    "    dfde = 1 - f * f\n",
    "    dfdd = dfde * (1 / (d +1))\n",
    "    dfdc = dfdd * z\n",
    "    dfdb = dfdc * -a/b**2\n",
    "    dfdy = dfdb * torch.cos(y)\n",
    "\n",
    "    return f, dfdy"
   ]
  },
  {
   "cell_type": "code",
   "execution_count": 23,
   "id": "3e02272c-3a62-433c-8bfb-f0a21146a4dd",
   "metadata": {},
   "outputs": [
    {
     "name": "stdout",
     "output_type": "stream",
     "text": [
      "AutoGrad:  tensor(0.2229)\n",
      "Manual:  tensor(0.1020, grad_fn=<MulBackward0>)\n"
     ]
    }
   ],
   "source": [
    "f, dfdx = grad(x, y, z)\n",
    "f.backward()\n",
    "print(\"AutoGrad: \", x.grad)\n",
    "print(\"Manual: \", dfdx)"
   ]
  },
  {
   "cell_type": "code",
   "execution_count": null,
   "id": "5cf14079-4f71-443d-aeac-1baf7a15c6b1",
   "metadata": {},
   "outputs": [],
   "source": []
  },
  {
   "cell_type": "code",
   "execution_count": null,
   "id": "8baf5fb9-dae4-45e2-81d8-2819b2fa8176",
   "metadata": {},
   "outputs": [],
   "source": []
  },
  {
   "cell_type": "code",
   "execution_count": null,
   "id": "2580cb23-1461-4217-8b87-b322912f8704",
   "metadata": {},
   "outputs": [],
   "source": []
  },
  {
   "cell_type": "code",
   "execution_count": null,
   "id": "43db7f1b-70b3-43dd-97ec-1845416c9de5",
   "metadata": {},
   "outputs": [],
   "source": []
  }
 ],
 "metadata": {
  "kernelspec": {
   "display_name": "Python 3 (ipykernel)",
   "language": "python",
   "name": "python3"
  },
  "language_info": {
   "codemirror_mode": {
    "name": "ipython",
    "version": 3
   },
   "file_extension": ".py",
   "mimetype": "text/x-python",
   "name": "python",
   "nbconvert_exporter": "python",
   "pygments_lexer": "ipython3",
   "version": "3.11.7"
  }
 },
 "nbformat": 4,
 "nbformat_minor": 5
}
