{
 "cells": [
  {
   "cell_type": "code",
   "execution_count": 1,
   "id": "9744c2db-ae1b-4796-ba97-b61a203c8a54",
   "metadata": {},
   "outputs": [],
   "source": [
    "import torch\n",
    "import torch.nn as nn\n",
    "import torch.nn.functional as F\n",
    "\n",
    "import numpy as np\n",
    "\n",
    "import matplotlib.pyplot as plt\n",
    "plt.style.use(\"seaborn-v0_8\")"
   ]
  },
  {
   "cell_type": "markdown",
   "id": "070d1ccb-8c1e-44dc-bce5-73c68b8188e2",
   "metadata": {},
   "source": [
    "# Q1"
   ]
  },
  {
   "cell_type": "code",
   "execution_count": 2,
   "id": "b5d160ef-9454-4ee6-b756-f4817f487c6c",
   "metadata": {},
   "outputs": [],
   "source": [
    "x = torch.tensor([12.4, 14.3, 14.5, 14.9, 16.1, 16.9, 16.5, 15.4, 17.0, 17.9, 18.8, 20.3, 22.4, 19.4, 15.5, 16.7, 17.3, 18.4, 19.2, 17.4, 19.5, 19.7, 21.2])"
   ]
  },
  {
   "cell_type": "code",
   "execution_count": 3,
   "id": "f4746fc8-7e59-42d5-994f-cdc1e35cae57",
   "metadata": {},
   "outputs": [],
   "source": [
    "y = torch.tensor([11.2, 12.5, 12.7, 13.1, 14.1, 14.8, 14.4, 13.4, 14.9, 15.6, 16.4, 17.7, 19.6, 16.9, 14.0, 14.6, 15.1, 16.1, 16.8, 15.2, 17.0, 17.2, 18.6])"
   ]
  },
  {
   "cell_type": "code",
   "execution_count": 4,
   "id": "c4696a6e-051d-4893-9cd3-ae91443a9549",
   "metadata": {},
   "outputs": [],
   "source": [
    "b = torch.tensor(1.0, requires_grad = True)\n",
    "w = torch.tensor(1.0, requires_grad = True)"
   ]
  },
  {
   "cell_type": "code",
   "execution_count": 5,
   "id": "b05fa01d-0930-428c-a68f-2f43b92d2fc1",
   "metadata": {},
   "outputs": [],
   "source": [
    "learning_rate = torch.tensor(0.001)"
   ]
  },
  {
   "cell_type": "code",
   "execution_count": 6,
   "id": "b6110801-bb6c-4de6-bbb3-b700de45fdb7",
   "metadata": {},
   "outputs": [],
   "source": [
    "loss_list = []"
   ]
  },
  {
   "cell_type": "code",
   "execution_count": 7,
   "id": "938b1c77-393c-4fb6-9950-7aac27dd923f",
   "metadata": {
    "scrolled": true
   },
   "outputs": [
    {
     "name": "stdout",
     "output_type": "stream",
     "text": [
      "The parameters are w = 0.8200302720069885, b = 0.9878906011581421, loss = 0.01730593852698803 \n"
     ]
    }
   ],
   "source": [
    "for epochs in range(100):\n",
    "\n",
    "    loss = 0.0\n",
    "    for j in range(len(x)):\n",
    "        a = w * x[j]\n",
    "        y_p = a + b\n",
    "        loss += (y_p - y[j])**2\n",
    "        \n",
    "    loss = loss / len(x)\n",
    "    loss_list.append(loss.item())\n",
    "    loss.backward()\n",
    "    with torch.no_grad():\n",
    "\n",
    "        w -= learning_rate * w.grad\n",
    "        b -= learning_rate * b.grad\n",
    "\n",
    "    w.grad.zero_()\n",
    "    b.grad.zero_()\n",
    "\n",
    "print(f\"The parameters are w = {w}, b = {b}, loss = {loss.item()} \")"
   ]
  },
  {
   "cell_type": "code",
   "execution_count": 8,
   "id": "0bf65dc2-fcdd-446a-9b2d-e0cd689653af",
   "metadata": {},
   "outputs": [
    {
     "data": {
      "image/png": "[encoded data removed]",
      "text/plain": [
       "<Figure size 800x550 with 1 Axes>"
      ]
     },
     "metadata": {},
     "output_type": "display_data"
    }
   ],
   "source": [
    "plt.plot(loss_list)\n",
    "plt.show()"
   ]
  },
  {
   "cell_type": "code",
   "execution_count": 9,
   "id": "f7892029-2fb3-4cbc-9f05-0112d694093f",
   "metadata": {},
   "outputs": [
    {
     "data": {
      "image/png": "[encoded data removed]",
      "text/plain": [
       "<Figure size 800x550 with 1 Axes>"
      ]
     },
     "metadata": {},
     "output_type": "display_data"
    }
   ],
   "source": [
    "plt.scatter(x,y, color = 'red', alpha = 0.5, marker = '*')\n",
    "plt.show()"
   ]
  },
  {
   "cell_type": "markdown",
   "id": "e2bdcbca-0980-40fa-a114-f1413f32f22c",
   "metadata": {},
   "source": [
    "# Q2"
   ]
  },
  {
   "cell_type": "code",
   "execution_count": 10,
   "id": "d9d654dc-c99b-4846-9596-d24ce2c46ea1",
   "metadata": {},
   "outputs": [],
   "source": [
    "x = torch.tensor([2.0, 4.0])\n",
    "y = torch.tensor([20.0, 40.0])"
   ]
  },
  {
   "cell_type": "code",
   "execution_count": 11,
   "id": "12952b23-ff43-4ecf-9fe4-1f188a845d62",
   "metadata": {},
   "outputs": [],
   "source": [
    "w = torch.tensor(1.0, requires_grad = True)\n",
    "b = torch.tensor(1.0, requires_grad = True)\n",
    "\n",
    "learning_rate = torch.tensor(0.001)\n",
    "loss_list = []"
   ]
  },
  {
   "cell_type": "code",
   "execution_count": 12,
   "id": "5af9fc5c-ec4d-4980-a9b7-5e1e2cb1dd3c",
   "metadata": {
    "scrolled": true
   },
   "outputs": [
    {
     "name": "stdout",
     "output_type": "stream",
     "text": [
      "The parameters are wgrad = -174.0, bgrad = -52.0, loss = 757.0 \n",
      "The parameters are wgrad = -170.20799255371094, bgrad = -50.85199737548828, loss = 724.3797607421875 \n"
     ]
    }
   ],
   "source": [
    "for epochs in range(2):\n",
    "\n",
    "    loss = 0.0\n",
    "    for j in range(len(x)):\n",
    "        a = w * x[j]\n",
    "        y_p = a + b\n",
    "        loss += (y_p - y[j])**2\n",
    "        \n",
    "    loss = loss / len(x)\n",
    "    loss_list.append(loss.item())\n",
    "    loss.backward()\n",
    "    \n",
    "    with torch.no_grad():\n",
    "\n",
    "        w -= learning_rate * w.grad\n",
    "        b -= learning_rate * b.grad\n",
    "\n",
    "        # w -= learning_rate * 1/2((w * x[0] - y[0])**2 + (w * x[1] - y[1])**2)\n",
    "        # b -= learning_rate * (w* x[0]+b - y[0] + w * x[1] +b -y[1])\n",
    "\n",
    "    \n",
    "    print(f\"The parameters are wgrad = {w.grad}, bgrad = {b.grad}, loss = {loss.item()} \")\n",
    "    w.grad.zero_()\n",
    "    b.grad.zero_()\n",
    "\n"
   ]
  },
  {
   "cell_type": "code",
   "execution_count": 13,
   "id": "7081af1d-52e0-46b3-b4c2-80c87427d746",
   "metadata": {},
   "outputs": [
    {
     "name": "stdout",
     "output_type": "stream",
     "text": [
      "The parameters are wgrad = -174.0, bgrad = -52.0, loss = 757.0 \n",
      "The parameters are wgrad = -170.2080078125, bgrad = -50.85200119018555, loss = 724.3797607421875 \n"
     ]
    }
   ],
   "source": [
    "w = 1.0\n",
    "b = 1.0\n",
    "loss_list = []\n",
    "\n",
    "for epochs in range(2):\n",
    "\n",
    "    loss = 0.0\n",
    "    for j in range(len(x)):\n",
    "        a = w * x[j]\n",
    "        y_p = a + b\n",
    "        loss += (y_p - y[j])**2\n",
    "        \n",
    "    loss = loss / len(x)\n",
    "    \n",
    "    \n",
    "    dldw = (w * x[0]**2 + b*x[0] - x[0]*y[0] + w*x[1]**2 + b * x[1] - x[1]*y[1])\n",
    "    dldb = (w* x[0]+b - y[0] + w * x[1] +b -y[1])\n",
    "\n",
    "    w -= learning_rate * dldw\n",
    "    b -= learning_rate * dldb\n",
    "    \n",
    "    \n",
    "    print(f\"The parameters are wgrad = {dldw}, bgrad = {dldb}, loss = {loss.item()} \")"
   ]
  },
  {
   "cell_type": "code",
   "execution_count": null,
   "id": "e1d6ad3c-08a1-4433-96bd-8e72006f3927",
   "metadata": {},
   "outputs": [],
   "source": []
  },
  {
   "cell_type": "code",
   "execution_count": null,
   "id": "0c86a2bd-4748-4b98-a793-987557157458",
   "metadata": {},
   "outputs": [],
   "source": []
  },
  {
   "cell_type": "markdown",
   "id": "4930c1aa-2563-4cc2-b352-2d06f9d74901",
   "metadata": {},
   "source": [
    "# Q3"
   ]
  },
  {
   "cell_type": "code",
   "execution_count": 14,
   "id": "07549668-ae16-4b0f-a6d9-7efa0229b805",
   "metadata": {},
   "outputs": [],
   "source": [
    "class RegressionModel:\n",
    "\n",
    "    def __init__ (self):\n",
    "        self.w = torch.tensor(1.0, requires_grad = True)\n",
    "        self.b = torch.tensor(1.0, requires_grad = True)\n",
    "        \n",
    "    def forward(self, x):\n",
    "        return self.w * x + self.b\n",
    "\n",
    "    def update(self):\n",
    "        self.w-= learning_rate * self.w.grad\n",
    "        self.b-= learning_rate * self.b.grad\n",
    "\n",
    "    def reset_grad(self):\n",
    "        self.w.grad.zero_()\n",
    "        self.b.grad.zero_()\n",
    "\n",
    "def criterion(yj, y_p):\n",
    "     return (yj - y_p) ** 2"
   ]
  },
  {
   "cell_type": "code",
   "execution_count": 15,
   "id": "0924109c-0338-4a3d-9f61-cfa9d71d53a9",
   "metadata": {},
   "outputs": [],
   "source": [
    "X = torch.tensor([5.0, 7.0, 12.0, 16.0, 20.0])\n",
    "y = torch.tensor([40.0, 120.0, 180.0, 210.0, 240.0])\n",
    "learning_rate = torch.tensor(0.001)"
   ]
  },
  {
   "cell_type": "code",
   "execution_count": 16,
   "id": "1f4116b7-d82b-4a5c-bfb1-7cf98a314059",
   "metadata": {
    "scrolled": true
   },
   "outputs": [
    {
     "name": "stdout",
     "output_type": "stream",
     "text": [
      "w = 1.534000039100647, b = 1.1519999504089355 loss = 7297.0\n",
      "w = 2.056407928466797, b = 1.3004919290542603 loss = 6992.10107421875\n",
      "w = 2.567476749420166, b = 1.4455524682998657 loss = 6700.3583984375\n",
      "w = 3.0674538612365723, b = 1.5872565507888794 loss = 6421.20166015625\n",
      "w = 3.5565812587738037, b = 1.725677251815796 loss = 6154.08984375\n",
      "w = 4.035095691680908, b = 1.8608864545822144 loss = 5898.50146484375\n",
      "w = 4.503228664398193, b = 1.992954134941101 loss = 5653.9404296875\n",
      "w = 4.961206436157227, b = 2.1219489574432373 loss = 5419.93017578125\n",
      "w = 5.409250736236572, b = 2.2479379177093506 loss = 5196.015625\n",
      "w = 5.847578048706055, b = 2.3709864616394043 loss = 4981.7607421875\n",
      "w = 6.276400566101074, b = 2.491158962249756 loss = 4776.7490234375\n",
      "w = 6.695925712585449, b = 2.608518123626709 loss = 4580.5810546875\n",
      "w = 7.106356143951416, b = 2.723125457763672 loss = 4392.8759765625\n",
      "w = 7.507890224456787, b = 2.835041046142578 loss = 4213.267578125\n",
      "w = 7.900722026824951, b = 2.9443235397338867 loss = 4041.40771484375\n",
      "w = 8.285041809082031, b = 3.0510306358337402 loss = 3876.960693359375\n",
      "w = 8.66103458404541, b = 3.1552183628082275 loss = 3719.607421875\n",
      "w = 9.02888298034668, b = 3.256941795349121 loss = 3569.04052734375\n",
      "w = 9.388763427734375, b = 3.3562545776367188 loss = 3424.968994140625\n",
      "w = 9.740850448608398, b = 3.453209400177002 loss = 3287.111328125\n",
      "w = 10.08531379699707, b = 3.5478579998016357 loss = 3155.19970703125\n",
      "w = 10.422320365905762, b = 3.6402504444122314 loss = 3028.977294921875\n",
      "w = 10.752032279968262, b = 3.730436086654663 loss = 2908.198974609375\n",
      "w = 11.07460880279541, b = 3.818463087081909 loss = 2792.629150390625\n",
      "w = 11.390205383300781, b = 3.9043784141540527 loss = 2682.04296875\n",
      "w = 11.698974609375, b = 3.9882283210754395 loss = 2576.226806640625\n",
      "w = 12.001066207885742, b = 4.0700578689575195 loss = 2474.972900390625\n",
      "w = 12.296624183654785, b = 4.149911403656006 loss = 2378.0849609375\n",
      "w = 12.585792541503906, b = 4.227831840515137 loss = 2285.375244140625\n",
      "w = 12.868709564208984, b = 4.303861618041992 loss = 2196.663330078125\n",
      "w = 13.145512580871582, b = 4.378041744232178 loss = 2111.775634765625\n",
      "w = 13.41633415222168, b = 4.450412750244141 loss = 2030.54833984375\n",
      "w = 13.681304931640625, b = 4.5210137367248535 loss = 1952.822509765625\n",
      "w = 13.940552711486816, b = 4.589883804321289 loss = 1878.44775390625\n",
      "w = 14.194202423095703, b = 4.657060623168945 loss = 1807.2791748046875\n",
      "w = 14.442376136779785, b = 4.722581386566162 loss = 1739.1785888671875\n",
      "w = 14.685193061828613, b = 4.786481857299805 loss = 1674.0133056640625\n",
      "w = 14.922770500183105, b = 4.848797798156738 loss = 1611.6566162109375\n",
      "w = 15.155221939086914, b = 4.9095635414123535 loss = 1551.987548828125\n",
      "w = 15.382659912109375, b = 4.968812942504883 loss = 1494.89013671875\n",
      "w = 15.605194091796875, b = 5.0265793800354 loss = 1440.2532958984375\n",
      "w = 15.822930335998535, b = 5.082895278930664 loss = 1387.9703369140625\n",
      "w = 16.035974502563477, b = 5.137792110443115 loss = 1337.9404296875\n",
      "w = 16.244428634643555, b = 5.191300868988037 loss = 1290.066162109375\n",
      "w = 16.448392868041992, b = 5.2434515953063965 loss = 1244.25439453125\n",
      "w = 16.647964477539062, b = 5.29427433013916 loss = 1200.415771484375\n",
      "w = 16.843238830566406, b = 5.3437981605529785 loss = 1158.4659423828125\n",
      "w = 17.034311294555664, b = 5.3920512199401855 loss = 1118.322998046875\n",
      "w = 17.22127342224121, b = 5.439061164855957 loss = 1079.9085693359375\n",
      "w = 17.404212951660156, b = 5.4848551750183105 loss = 1043.148193359375\n",
      "w = 17.583219528198242, b = 5.5294599533081055 loss = 1007.9713745117188\n",
      "w = 17.758378982543945, b = 5.572901725769043 loss = 974.308837890625\n",
      "w = 17.929773330688477, b = 5.615205764770508 loss = 942.0953369140625\n",
      "w = 18.09748649597168, b = 5.656396865844727 loss = 911.2685546875\n",
      "w = 18.261598587036133, b = 5.696499347686768 loss = 881.7685546875\n",
      "w = 18.42218780517578, b = 5.735536575317383 loss = 853.5377807617188\n",
      "w = 18.579330444335938, b = 5.773532390594482 loss = 826.522216796875\n",
      "w = 18.733102798461914, b = 5.810509204864502 loss = 800.6690063476562\n",
      "w = 18.883577346801758, b = 5.846489429473877 loss = 775.9275512695312\n",
      "w = 19.030826568603516, b = 5.881494998931885 loss = 752.2506103515625\n",
      "w = 19.1749210357666, b = 5.915546894073486 loss = 729.5918579101562\n",
      "w = 19.315929412841797, b = 5.948666095733643 loss = 707.9071044921875\n",
      "w = 19.45391845703125, b = 5.980873107910156 loss = 687.1548461914062\n",
      "w = 19.58895492553711, b = 6.012187957763672 loss = 667.2947998046875\n",
      "w = 19.721101760864258, b = 6.042629718780518 loss = 648.287841796875\n",
      "w = 19.85042381286621, b = 6.07221794128418 loss = 630.0979614257812\n",
      "w = 19.97698211669922, b = 6.10097074508667 loss = 612.6893920898438\n",
      "w = 20.1008358001709, b = 6.128906726837158 loss = 596.0286865234375\n",
      "w = 20.2220458984375, b = 6.156044006347656 loss = 580.083251953125\n",
      "w = 20.340669631958008, b = 6.182399749755859 loss = 564.8223266601562\n",
      "w = 20.456762313842773, b = 6.207991123199463 loss = 550.216552734375\n",
      "w = 20.57037925720215, b = 6.232834339141846 loss = 536.2373046875\n",
      "w = 20.68157386779785, b = 6.256946563720703 loss = 522.8579711914062\n",
      "w = 20.790401458740234, b = 6.280343055725098 loss = 510.0524597167969\n",
      "w = 20.89691162109375, b = 6.303040027618408 loss = 497.79608154296875\n",
      "w = 21.001155853271484, b = 6.325052261352539 loss = 486.06500244140625\n",
      "w = 21.103181838989258, b = 6.346395015716553 loss = 474.83660888671875\n",
      "w = 21.203039169311523, b = 6.3670830726623535 loss = 464.0892333984375\n",
      "w = 21.3007755279541, b = 6.3871307373046875 loss = 453.8023681640625\n",
      "w = 21.39643669128418, b = 6.406551837921143 loss = 443.95562744140625\n",
      "w = 21.490068435668945, b = 6.425360202789307 loss = 434.5302734375\n",
      "w = 21.581714630126953, b = 6.443569183349609 loss = 425.5082702636719\n",
      "w = 21.671419143676758, b = 6.461191654205322 loss = 416.8719177246094\n",
      "w = 21.75922393798828, b = 6.478240966796875 loss = 408.60491943359375\n",
      "w = 21.845169067382812, b = 6.494729042053223 loss = 400.6908874511719\n",
      "w = 21.929296493530273, b = 6.510668754577637 loss = 393.11505126953125\n",
      "w = 22.011646270751953, b = 6.526071548461914 loss = 385.86260986328125\n",
      "w = 22.092256546020508, b = 6.54094934463501 loss = 378.9194641113281\n",
      "w = 22.171165466308594, b = 6.555314064025879 loss = 372.27252197265625\n",
      "w = 22.248411178588867, b = 6.56917667388916 loss = 365.90875244140625\n",
      "w = 22.32402801513672, b = 6.582547664642334 loss = 359.8160095214844\n",
      "w = 22.398052215576172, b = 6.595438480377197 loss = 353.982666015625\n",
      "w = 22.470518112182617, b = 6.607859134674072 loss = 348.39776611328125\n",
      "w = 22.541460037231445, b = 6.6198201179504395 loss = 343.05023193359375\n",
      "w = 22.610912322998047, b = 6.631331920623779 loss = 337.9298400878906\n",
      "w = 22.678905487060547, b = 6.642403602600098 loss = 333.0268859863281\n",
      "w = 22.745473861694336, b = 6.653045177459717 loss = 328.33209228515625\n",
      "w = 22.810646057128906, b = 6.663266181945801 loss = 323.8362121582031\n",
      "w = 22.874452590942383, b = 6.6730756759643555 loss = 319.53082275390625\n",
      "w = 22.936925888061523, b = 6.682482719421387 loss = 315.4079895019531\n"
     ]
    }
   ],
   "source": [
    "model = RegressionModel()\n",
    "\n",
    "loss_list = []\n",
    "\n",
    "for epochs in range(100):\n",
    "    loss = 0.0\n",
    "    for j in range(len(x)):\n",
    "        y_p = model.forward(x[j])\n",
    "        \n",
    "        loss += criterion(y[j], y_p)\n",
    "\n",
    "    loss = loss/len(x)\n",
    "    loss_list.append(loss.item())\n",
    "\n",
    "    loss.backward()\n",
    "\n",
    "    with torch.no_grad():\n",
    "        model.update()\n",
    "    model.reset_grad()\n",
    "\n",
    "\n",
    "    print(f\"w = {model.w}, b = {model.b} loss = {loss.item()}\")"
   ]
  },
  {
   "cell_type": "code",
   "execution_count": 17,
   "id": "2683b96a-ee59-4b8c-864d-017cef50334c",
   "metadata": {},
   "outputs": [
    {
     "data": {
      "text/plain": [
       "[]"
      ]
     },
     "execution_count": 17,
     "metadata": {},
     "output_type": "execute_result"
    },
    {
     "data": {
      "image/png": "[encoded data removed]",
      "text/plain": [
       "<Figure size 800x550 with 1 Axes>"
      ]
     },
     "metadata": {},
     "output_type": "display_data"
    }
   ],
   "source": [
    "plt.plot(loss_list)\n",
    "plt.plot()"
   ]
  },
  {
   "cell_type": "markdown",
   "id": "bb92967e-aafe-4aed-8cdf-5ea3bfff05dd",
   "metadata": {},
   "source": [
    "# Q4"
   ]
  },
  {
   "cell_type": "code",
   "execution_count": 18,
   "id": "c9bf86e7-34e4-4d50-a983-1339f9e043dd",
   "metadata": {},
   "outputs": [],
   "source": [
    "X = torch.Tensor([12.4, 14.3, 14.5, 14.9, 16.1, 16.9, 16.5, 15.4, 17.0, 17.9, 18.8, 20.3, 22.4, 19.4, 15.5, 16.7, 17.3, 18.4, 19.2, 17.4, 19.5, 19.7, 21.2])\n",
    "y = torch.Tensor([11.2, 12.5, 12.7, 13.1, 14.1, 14.8, 14.4, 13.4, 14.9, 15.6, 16.4, 17.7, 19.6, 16.9, 14.0, 14.6, 15.1, 16.1, 16.8, 15.2, 17.0, 17.2, 18.6])"
   ]
  },
  {
   "cell_type": "code",
   "execution_count": 19,
   "id": "a1f69059-f884-4ec3-b1ce-cb525afb9ddc",
   "metadata": {},
   "outputs": [],
   "source": [
    "class LinearRegression(nn.Module):\n",
    "\n",
    "    def __init__(self, learning_rate=0.001):\n",
    "        super(LinearRegression, self).__init__()\n",
    "\n",
    "        self.w = torch.randn([1]).requires_grad_(True)\n",
    "        self.b = torch.randn([1]).requires_grad_(True)\n",
    "        \n",
    "        self.optimizer = torch.optim.SGD([self.w, self.b], lr=learning_rate)\n",
    "        self.criterion = nn.MSELoss()\n",
    "\n",
    "\n",
    "    def forward(self, X):\n",
    "        return self.w * X + self.b\n",
    "\n",
    "    def fit(self, X, y, num_epochs=1000):\n",
    "\n",
    "        losses = []\n",
    "        \n",
    "        for epoch in range(num_epochs):\n",
    "            \n",
    "            self.optimizer.zero_grad()\n",
    "            preds = self(X)\n",
    "            \n",
    "            loss = self.criterion(preds, y)\n",
    "            loss.backward()\n",
    "            losses.append(loss.item())\n",
    "            \n",
    "            self.optimizer.step()\n",
    "\n",
    "        print(f\"Final params are: w={self.w}, b={self.b}, loss={losses[-1]}\")\n",
    "        \n",
    "        final_preds = (self.w * X + self.b).detach().numpy()\n",
    "        plt.plot(X, y, \"bo\", alpha=0.5)\n",
    "        plt.plot(X, final_preds, \"g-\")\n",
    "        plt.show()"
   ]
  },
  {
   "cell_type": "code",
   "execution_count": 20,
   "id": "1405405a-eeb3-438c-b861-a97f1c0be00f",
   "metadata": {},
   "outputs": [
    {
     "name": "stdout",
     "output_type": "stream",
     "text": [
      "Final params are: w=tensor([0.9630], requires_grad=True), b=tensor([-1.5538], requires_grad=True), loss=0.08276534080505371\n"
     ]
    },
    {
     "data": {
      "image/png": "[encoded data removed]",
      "text/plain": [
       "<Figure size 800x550 with 1 Axes>"
      ]
     },
     "metadata": {},
     "output_type": "display_data"
    }
   ],
   "source": [
    "m = LinearRegression()\n",
    "m.fit(X, y)"
   ]
  },
  {
   "cell_type": "markdown",
   "id": "566945dc-ab0f-471e-9877-a3593093b26e",
   "metadata": {},
   "source": [
    "# Q5"
   ]
  },
  {
   "cell_type": "code",
   "execution_count": 21,
   "id": "6463a17a-6d6e-4f2d-a36d-7b88e65edf8b",
   "metadata": {},
   "outputs": [],
   "source": [
    "class TrueLinearRegression(nn.Module):\n",
    "\n",
    "    def __init__(self, input_dims, learning_rate=0.001):\n",
    "\n",
    "        super(TrueLinearRegression, self).__init__()\n",
    "        self.linear = nn.Linear(input_dims, 1)\n",
    "\n",
    "        self.optimizer = torch.optim.SGD(self.parameters(), lr=learning_rate)\n",
    "        self.criterion = nn.MSELoss()\n",
    "\n",
    "    def forward(self, X):\n",
    "        return self.linear(X)\n",
    "\n",
    "    def fit(self, X, y, num_epochs=100, plot=True):\n",
    "\n",
    "        losses = []\n",
    "        \n",
    "        for epoch in range(num_epochs):\n",
    "            \n",
    "            self.optimizer.zero_grad()\n",
    "            preds = self(X)\n",
    "            \n",
    "            loss = self.criterion(preds, y)\n",
    "            loss.backward()\n",
    "            losses.append(loss.item())\n",
    "            \n",
    "            self.optimizer.step()\n",
    "\n",
    "        for name, param in self.named_parameters():\n",
    "            print(f'{name} = {param.data}')\n",
    "\n",
    "        if plot:\n",
    "            final_preds = self(X).detach().numpy()\n",
    "            plt.plot(X, y, \"bo\", alpha=0.5)\n",
    "            plt.plot(X, final_preds, \"g-\")\n",
    "            plt.show()"
   ]
  },
  {
   "cell_type": "code",
   "execution_count": 22,
   "id": "eccfeafa-f3c4-498c-ae99-431d360fe104",
   "metadata": {},
   "outputs": [
    {
     "name": "stdout",
     "output_type": "stream",
     "text": [
      "linear.weight = tensor([[0.8363]])\n",
      "linear.bias = tensor([0.6979])\n"
     ]
    },
    {
     "data": {
      "image/png": "[encoded data removed]",
      "text/plain": [
       "<Figure size 800x550 with 1 Axes>"
      ]
     },
     "metadata": {},
     "output_type": "display_data"
    }
   ],
   "source": [
    "m = TrueLinearRegression(input_dims=1)\n",
    "m.fit(X.reshape(-1, 1), y.reshape(-1, 1))"
   ]
  },
  {
   "cell_type": "markdown",
   "id": "29cf98ae-484d-4c8d-86b7-14c3a0d23aaa",
   "metadata": {},
   "source": [
    "# Q6"
   ]
  },
  {
   "cell_type": "code",
   "execution_count": 23,
   "id": "39a1c2f7-29ba-436c-9d84-26f0fd00e8a7",
   "metadata": {},
   "outputs": [],
   "source": [
    "X = torch.Tensor([[3, 8], [4, 5], [5, 7], [6, 3], [2, 1]])\n",
    "y = torch.Tensor([-3.7, 3.5, 2.5, 11.5, 5.7]).reshape(-1, 1)"
   ]
  },
  {
   "cell_type": "code",
   "execution_count": 24,
   "id": "006efa4e-4a42-4b8e-a10c-30b7594394d8",
   "metadata": {},
   "outputs": [
    {
     "name": "stdout",
     "output_type": "stream",
     "text": [
      "linear.weight = tensor([[ 1.3859, -0.4764]])\n",
      "linear.bias = tensor([-0.1719])\n"
     ]
    }
   ],
   "source": [
    "m = TrueLinearRegression(input_dims=2)\n",
    "m.fit(X, y, plot=False)"
   ]
  },
  {
   "cell_type": "markdown",
   "id": "a9a655ed-ca01-4a73-b3c3-ceb14510b430",
   "metadata": {},
   "source": [
    "# Q7"
   ]
  },
  {
   "cell_type": "code",
   "execution_count": 25,
   "id": "bee72b39-deaa-44cb-b15c-d0ac47335727",
   "metadata": {},
   "outputs": [],
   "source": [
    "class LogisticRegression(nn.Module):\n",
    "\n",
    "    def __init__(self, input_dims=1, learning_rate=0.005):\n",
    "\n",
    "        super(LogisticRegression, self).__init__()\n",
    "        self.linear = nn.Linear(input_dims, 1)\n",
    "        self.sigmoid = nn.Sigmoid()\n",
    "\n",
    "        self.optimizer = torch.optim.SGD(self.parameters(), lr=learning_rate)\n",
    "        self.criterion = nn.BCELoss()\n",
    "\n",
    "    def forward(self, x):\n",
    "        return self.sigmoid(self.linear(x))\n",
    "\n",
    "    def fit(self, X, y, num_epochs=5000, plot=True):\n",
    "\n",
    "        losses = []\n",
    "        \n",
    "        for epoch in range(num_epochs):\n",
    "            \n",
    "            self.optimizer.zero_grad()\n",
    "            preds = self(X)\n",
    "            \n",
    "            loss = self.criterion(preds, y)\n",
    "            loss.backward()\n",
    "            losses.append(loss.item())\n",
    "            \n",
    "            self.optimizer.step()\n",
    "\n",
    "        for name, param in self.named_parameters():\n",
    "            print(f'{name} = {param.data}')\n",
    "\n",
    "        if plot:\n",
    "            plt.plot(range(num_epochs), losses, \"g-\")\n",
    "            plt.show()"
   ]
  },
  {
   "cell_type": "code",
   "execution_count": 26,
   "id": "f46051b9-67a6-4c71-9ba2-0052432e7358",
   "metadata": {},
   "outputs": [
    {
     "name": "stdout",
     "output_type": "stream",
     "text": [
      "linear.weight = tensor([[0.0943]])\n",
      "linear.bias = tensor([-3.0240])\n"
     ]
    },
    {
     "data": {
      "image/png": "[encoded data removed]",
      "text/plain": [
       "<Figure size 800x550 with 1 Axes>"
      ]
     },
     "metadata": {},
     "output_type": "display_data"
    }
   ],
   "source": [
    "X = torch.Tensor([1, 5, 10, 10, 25, 50, 70, 75, 100]).reshape(-1, 1)\n",
    "y = torch.Tensor([0, 0, 0, 0, 0, 1, 1, 1, 1]).reshape(-1, 1)\n",
    "\n",
    "m = LogisticRegression()\n",
    "m.fit(X, y)"
   ]
  },
  {
   "cell_type": "code",
   "execution_count": null,
   "id": "33064249-e4ed-4953-b4b1-a814ee885b0a",
   "metadata": {},
   "outputs": [],
   "source": []
  }
 ],
 "metadata": {
  "kernelspec": {
   "display_name": "Python 3 (ipykernel)",
   "language": "python",
   "name": "python3"
  },
  "language_info": {
   "codemirror_mode": {
    "name": "ipython",
    "version": 3
   },
   "file_extension": ".py",
   "mimetype": "text/x-python",
   "name": "python",
   "nbconvert_exporter": "python",
   "pygments_lexer": "ipython3",
   "version": "3.11.7"
  }
 },
 "nbformat": 4,
 "nbformat_minor": 5
}
